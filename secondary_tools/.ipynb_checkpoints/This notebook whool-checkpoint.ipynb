{
 "cells": [
  {
   "cell_type": "code",
   "execution_count": 1,
   "id": "e5466d5b",
   "metadata": {},
   "outputs": [],
   "source": [
    "import numpy as np\n",
    "import scipy\n",
    "from time import sleep\n",
    "import matplotlib.pyplot as plt\n",
    "from sympy import *\n",
    "from scipy import * \n",
    "from sympy.solvers.solveset import linsolve\n",
    "from IPython.display import clear_output\n",
    "from IPython.display import display\n",
    "init_printing(use_unicode=True,use_latex=True)"
   ]
  },
  {
   "cell_type": "code",
   "execution_count": 12,
   "id": "04c14cd0",
   "metadata": {},
   "outputs": [],
   "source": [
    "a,b,d = symbols('a,b,d')"
   ]
  },
  {
   "cell_type": "code",
   "execution_count": 6,
   "id": "a6e5c329",
   "metadata": {},
   "outputs": [],
   "source": [
    "m = Matrix([[-a,a],[b,-b]])"
   ]
  },
  {
   "cell_type": "code",
   "execution_count": 9,
   "id": "55b719b9",
   "metadata": {},
   "outputs": [
    {
     "data": {
      "image/png": "[encoded data removed]",
      "text/latex": [
       "$\\displaystyle \\left\\{ 0 : 1, \\  - a - b : 1\\right\\}$"
      ],
      "text/plain": [
       "{0: 1, -a - b: 1}"
      ]
     },
     "execution_count": 9,
     "metadata": {},
     "output_type": "execute_result"
    }
   ],
   "source": [
    "m.eigenvals()"
   ]
  },
  {
   "cell_type": "code",
   "execution_count": 10,
   "id": "39accbb3",
   "metadata": {},
   "outputs": [
    {
     "data": {
      "image/png": "[encoded data removed]",
      "text/latex": [
       "$\\displaystyle \\left[ \\left( 0, \\  1, \\  \\left[ \\left[\\begin{matrix}1\\\\1\\end{matrix}\\right]\\right]\\right), \\  \\left( - a - b, \\  1, \\  \\left[ \\left[\\begin{matrix}- \\frac{a}{b}\\\\1\\end{matrix}\\right]\\right]\\right)\\right]$"
      ],
      "text/plain": [
       "⎡               ⎛           ⎡⎡-a ⎤⎤⎞⎤\n",
       "⎢⎛      ⎡⎡1⎤⎤⎞  ⎜           ⎢⎢───⎥⎥⎟⎥\n",
       "⎢⎜0, 1, ⎢⎢ ⎥⎥⎟, ⎜-a - b, 1, ⎢⎢ b ⎥⎥⎟⎥\n",
       "⎢⎝      ⎣⎣1⎦⎦⎠  ⎜           ⎢⎢   ⎥⎥⎟⎥\n",
       "⎣               ⎝           ⎣⎣ 1 ⎦⎦⎠⎦"
      ]
     },
     "execution_count": 10,
     "metadata": {},
     "output_type": "execute_result"
    }
   ],
   "source": [
    "m.eigenvects()"
   ]
  },
  {
   "cell_type": "code",
   "execution_count": 11,
   "id": "a690662e",
   "metadata": {},
   "outputs": [],
   "source": [
    "# Final Form here"
   ]
  },
  {
   "cell_type": "code",
   "execution_count": 14,
   "id": "5e19ec89",
   "metadata": {},
   "outputs": [
    {
     "name": "stderr",
     "output_type": "stream",
     "text": [
      "/var/folders/_c/l7slpvfj7f1f3xrbzl_7c9440000gn/T/ipykernel_16350/3882672117.py:1: DeprecationWarning: scipy.exp is deprecated and will be removed in SciPy 2.0.0, use numpy.exp instead\n",
      "  meep = (b/(a+b))*Matrix([[1+(a/b)*scipy.exp(-d*(a+b)), (a/b)*(1+scipy.exp(-d*(a+b)))]\n"
     ]
    },
    {
     "ename": "TypeError",
     "evalue": "loop of ufunc does not support argument 0 of type Mul which has no callable exp method",
     "output_type": "error",
     "traceback": [
      "\u001b[0;31m---------------------------------------------------------------------------\u001b[0m",
      "\u001b[0;31mAttributeError\u001b[0m                            Traceback (most recent call last)",
      "\u001b[0;31mAttributeError\u001b[0m: 'Mul' object has no attribute 'exp'",
      "\nThe above exception was the direct cause of the following exception:\n",
      "\u001b[0;31mTypeError\u001b[0m                                 Traceback (most recent call last)",
      "Cell \u001b[0;32mIn [14], line 1\u001b[0m\n\u001b[0;32m----> 1\u001b[0m meep \u001b[38;5;241m=\u001b[39m (b\u001b[38;5;241m/\u001b[39m(a\u001b[38;5;241m+\u001b[39mb))\u001b[38;5;241m*\u001b[39mMatrix([[\u001b[38;5;241m1\u001b[39m\u001b[38;5;241m+\u001b[39m(a\u001b[38;5;241m/\u001b[39mb)\u001b[38;5;241m*\u001b[39m\u001b[43mscipy\u001b[49m\u001b[38;5;241;43m.\u001b[39;49m\u001b[43mexp\u001b[49m\u001b[43m(\u001b[49m\u001b[38;5;241;43m-\u001b[39;49m\u001b[43md\u001b[49m\u001b[38;5;241;43m*\u001b[39;49m\u001b[43m(\u001b[49m\u001b[43ma\u001b[49m\u001b[38;5;241;43m+\u001b[39;49m\u001b[43mb\u001b[49m\u001b[43m)\u001b[49m\u001b[43m)\u001b[49m, (a\u001b[38;5;241m/\u001b[39mb)\u001b[38;5;241m*\u001b[39m(\u001b[38;5;241m1\u001b[39m\u001b[38;5;241m+\u001b[39mscipy\u001b[38;5;241m.\u001b[39mexp(\u001b[38;5;241m-\u001b[39md\u001b[38;5;241m*\u001b[39m(a\u001b[38;5;241m+\u001b[39mb)))]\n\u001b[1;32m      2\u001b[0m                          ,[\u001b[38;5;241m1\u001b[39m\u001b[38;5;241m-\u001b[39mscipy\u001b[38;5;241m.\u001b[39mexp(\u001b[38;5;241m-\u001b[39md\u001b[38;5;241m*\u001b[39m(a\u001b[38;5;241m+\u001b[39mb)),(a\u001b[38;5;241m/\u001b[39mb)\u001b[38;5;241m-\u001b[39mscipy\u001b[38;5;241m.\u001b[39mexp(\u001b[38;5;241m-\u001b[39md\u001b[38;5;241m*\u001b[39m(a\u001b[38;5;241m+\u001b[39mb))]])\n",
      "File \u001b[0;32m~/miniforge3/envs/rs39/lib/python3.9/site-packages/scipy/_lib/deprecation.py:20\u001b[0m, in \u001b[0;36m_deprecated.<locals>.wrap.<locals>.call\u001b[0;34m(*args, **kwargs)\u001b[0m\n\u001b[1;32m     16\u001b[0m \u001b[38;5;129m@functools\u001b[39m\u001b[38;5;241m.\u001b[39mwraps(fun)\n\u001b[1;32m     17\u001b[0m \u001b[38;5;28;01mdef\u001b[39;00m \u001b[38;5;21mcall\u001b[39m(\u001b[38;5;241m*\u001b[39margs, \u001b[38;5;241m*\u001b[39m\u001b[38;5;241m*\u001b[39mkwargs):\n\u001b[1;32m     18\u001b[0m     warnings\u001b[38;5;241m.\u001b[39mwarn(msg, category\u001b[38;5;241m=\u001b[39m\u001b[38;5;167;01mDeprecationWarning\u001b[39;00m,\n\u001b[1;32m     19\u001b[0m                   stacklevel\u001b[38;5;241m=\u001b[39mstacklevel)\n\u001b[0;32m---> 20\u001b[0m     \u001b[38;5;28;01mreturn\u001b[39;00m \u001b[43mfun\u001b[49m\u001b[43m(\u001b[49m\u001b[38;5;241;43m*\u001b[39;49m\u001b[43margs\u001b[49m\u001b[43m,\u001b[49m\u001b[43m \u001b[49m\u001b[38;5;241;43m*\u001b[39;49m\u001b[38;5;241;43m*\u001b[39;49m\u001b[43mkwargs\u001b[49m\u001b[43m)\u001b[49m\n",
      "\u001b[0;31mTypeError\u001b[0m: loop of ufunc does not support argument 0 of type Mul which has no callable exp method"
     ]
    }
   ],
   "source": [
    "meep = (b/(a+b))*Matrix([[1+(a/b)*sympy.exp(-d*(a+b)), (a/b)*(1+sympy.exp(-d*(a+b)))]\n",
    "                         ,[1-sympy.exp(-d*(a+b)),(a/b)-sympy.exp(-d*(a+b))]])"
   ]
  },
  {
   "cell_type": "code",
   "execution_count": null,
   "id": "0e26a0e7",
   "metadata": {},
   "outputs": [],
   "source": []
  }
 ],
 "metadata": {
  "kernelspec": {
   "display_name": "Python 3 (ipykernel)",
   "language": "python",
   "name": "python3"
  },
  "language_info": {
   "codemirror_mode": {
    "name": "ipython",
    "version": 3
   },
   "file_extension": ".py",
   "mimetype": "text/x-python",
   "name": "python",
   "nbconvert_exporter": "python",
   "pygments_lexer": "ipython3",
   "version": "3.9.15"
  }
 },
 "nbformat": 4,
 "nbformat_minor": 5
}
