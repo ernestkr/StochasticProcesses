{
 "cells": [
  {
   "cell_type": "code",
   "execution_count": null,
   "id": "43375a88",
   "metadata": {},
   "outputs": [],
   "source": []
  },
  {
   "cell_type": "code",
   "execution_count": 44,
   "id": "6abe1d97",
   "metadata": {},
   "outputs": [],
   "source": [
    "import numpy as np\n",
    "import scipy\n",
    "from time import sleep\n",
    "import matplotlib.pyplot as plt\n",
    "from sympy import *\n",
    "import sympy\n",
    "from scipy import * \n",
    "from sympy.solvers.solveset import linsolve\n",
    "from IPython.display import clear_output\n",
    "from IPython.display import display\n",
    "init_printing(use_unicode=True,use_latex=True)"
   ]
  },
  {
   "cell_type": "code",
   "execution_count": 45,
   "id": "03301aa6",
   "metadata": {},
   "outputs": [],
   "source": [
    "a,b,d = symbols('a,b,d')"
   ]
  },
  {
   "cell_type": "code",
   "execution_count": 46,
   "id": "ec0be678",
   "metadata": {},
   "outputs": [],
   "source": [
    "m = Matrix([[-a,a],[b,-b]])"
   ]
  },
  {
   "cell_type": "code",
   "execution_count": 47,
   "id": "abdd4fc5",
   "metadata": {},
   "outputs": [
    {
     "data": {
      "image/png": "[encoded data removed]",
      "text/latex": [
       "$\\displaystyle \\left\\{ 0 : 1, \\  - a - b : 1\\right\\}$"
      ],
      "text/plain": [
       "{0: 1, -a - b: 1}"
      ]
     },
     "execution_count": 47,
     "metadata": {},
     "output_type": "execute_result"
    }
   ],
   "source": [
    "m.eigenvals()"
   ]
  },
  {
   "cell_type": "code",
   "execution_count": 48,
   "id": "8e07079e",
   "metadata": {},
   "outputs": [
    {
     "data": {
      "image/png": "[encoded data removed]",
      "text/latex": [
       "$\\displaystyle \\left[ \\left( 0, \\  1, \\  \\left[ \\left[\\begin{matrix}1\\\\1\\end{matrix}\\right]\\right]\\right), \\  \\left( - a - b, \\  1, \\  \\left[ \\left[\\begin{matrix}- \\frac{a}{b}\\\\1\\end{matrix}\\right]\\right]\\right)\\right]$"
      ],
      "text/plain": [
       "⎡               ⎛           ⎡⎡-a ⎤⎤⎞⎤\n",
       "⎢⎛      ⎡⎡1⎤⎤⎞  ⎜           ⎢⎢───⎥⎥⎟⎥\n",
       "⎢⎜0, 1, ⎢⎢ ⎥⎥⎟, ⎜-a - b, 1, ⎢⎢ b ⎥⎥⎟⎥\n",
       "⎢⎝      ⎣⎣1⎦⎦⎠  ⎜           ⎢⎢   ⎥⎥⎟⎥\n",
       "⎣               ⎝           ⎣⎣ 1 ⎦⎦⎠⎦"
      ]
     },
     "execution_count": 48,
     "metadata": {},
     "output_type": "execute_result"
    }
   ],
   "source": [
    "m.eigenvects()"
   ]
  },
  {
   "cell_type": "code",
   "execution_count": 95,
   "id": "1d5e4326",
   "metadata": {},
   "outputs": [
    {
     "data": {
      "image/png": "[encoded data removed]",
      "text/latex": [
       "$\\displaystyle \\left[\\begin{matrix}1 & - \\frac{a}{b}\\\\1 & 1\\end{matrix}\\right]$"
      ],
      "text/plain": [
       "⎡   -a ⎤\n",
       "⎢1  ───⎥\n",
       "⎢    b ⎥\n",
       "⎢      ⎥\n",
       "⎣1   1 ⎦"
      ]
     },
     "metadata": {},
     "output_type": "display_data"
    },
    {
     "data": {
      "image/png": "[encoded data removed]",
      "text/latex": [
       "$\\displaystyle \\left[\\begin{matrix}\\frac{1}{\\frac{a}{b} + 1} & \\frac{a}{a + b}\\\\- \\frac{1}{\\frac{a}{b} + 1} & \\frac{1}{\\frac{a}{b} + 1}\\end{matrix}\\right]$"
      ],
      "text/plain": [
       "⎡  1      a  ⎤\n",
       "⎢─────  ─────⎥\n",
       "⎢a      a + b⎥\n",
       "⎢─ + 1       ⎥\n",
       "⎢b           ⎥\n",
       "⎢            ⎥\n",
       "⎢ -1      1  ⎥\n",
       "⎢─────  ─────⎥\n",
       "⎢a      a    ⎥\n",
       "⎢─ + 1  ─ + 1⎥\n",
       "⎣b      b    ⎦"
      ]
     },
     "execution_count": 95,
     "metadata": {},
     "output_type": "execute_result"
    }
   ],
   "source": [
    "E,S = m.diagonalize()\n",
    "display(E)\n",
    "Ei = E.inv()\n",
    "Ei"
   ]
  },
  {
   "cell_type": "code",
   "execution_count": 50,
   "id": "ff129b76",
   "metadata": {},
   "outputs": [],
   "source": [
    "expo = E@sympy.exp(S)@Ei"
   ]
  },
  {
   "cell_type": "code",
   "execution_count": 51,
   "id": "9565eb3e",
   "metadata": {},
   "outputs": [],
   "source": [
    "# Final Form here"
   ]
  },
  {
   "cell_type": "code",
   "execution_count": 52,
   "id": "653b3e73",
   "metadata": {},
   "outputs": [],
   "source": [
    "meep = (b/(a+b))*Matrix([[1+(a/b)*sympy.exp(-d*(a+b)), (a/b)*(1-sympy.exp(-d*(a+b)))]\n",
    "                         ,[1-sympy.exp(-d*(a+b)),(a/b)+sympy.exp(-d*(a+b))]])"
   ]
  },
  {
   "cell_type": "code",
   "execution_count": 53,
   "id": "22e47609",
   "metadata": {},
   "outputs": [
    {
     "data": {
      "image/png": "[encoded data removed]",
      "text/latex": [
       "$\\displaystyle \\left[\\begin{matrix}\\frac{b \\left(\\frac{a e^{- d \\left(a + b\\right)}}{b} + 1\\right)}{a + b} & \\frac{a \\left(1 - e^{- d \\left(a + b\\right)}\\right)}{a + b}\\\\\\frac{b \\left(1 - e^{- d \\left(a + b\\right)}\\right)}{a + b} & \\frac{b \\left(\\frac{a}{b} + e^{- d \\left(a + b\\right)}\\right)}{a + b}\\end{matrix}\\right]$"
      ],
      "text/plain": [
       "⎡  ⎛   -d⋅(a + b)    ⎞                     ⎤\n",
       "⎢  ⎜a⋅ℯ              ⎟                     ⎥\n",
       "⎢b⋅⎜───────────── + 1⎟    ⎛     -d⋅(a + b)⎞⎥\n",
       "⎢  ⎝      b          ⎠  a⋅⎝1 - ℯ          ⎠⎥\n",
       "⎢─────────────────────  ───────────────────⎥\n",
       "⎢        a + b                 a + b       ⎥\n",
       "⎢                                          ⎥\n",
       "⎢                         ⎛a    -d⋅(a + b)⎞⎥\n",
       "⎢   ⎛     -d⋅(a + b)⎞   b⋅⎜─ + ℯ          ⎟⎥\n",
       "⎢ b⋅⎝1 - ℯ          ⎠     ⎝b              ⎠⎥\n",
       "⎢ ───────────────────   ───────────────────⎥\n",
       "⎣        a + b                 a + b       ⎦"
      ]
     },
     "execution_count": 53,
     "metadata": {},
     "output_type": "execute_result"
    }
   ],
   "source": [
    "meep"
   ]
  },
  {
   "cell_type": "code",
   "execution_count": 109,
   "id": "56e5cdc1",
   "metadata": {},
   "outputs": [],
   "source": [
    "woof = meep.subs([(a,0.4),(b,1.2),(d,1/9.892302152041209)])"
   ]
  },
  {
   "cell_type": "code",
   "execution_count": 110,
   "id": "0474d775",
   "metadata": {},
   "outputs": [
    {
     "data": {
      "image/png": "[encoded data removed]",
      "text/latex": [
       "$\\displaystyle \\left[\\begin{matrix}0.962665177463543 & 0.0373348225364575\\\\0.112004467609372 & 0.887995532390628\\end{matrix}\\right]$"
      ],
      "text/plain": [
       "⎡0.962665177463543  0.0373348225364575⎤\n",
       "⎢                                     ⎥\n",
       "⎣0.112004467609372  0.887995532390628 ⎦"
      ]
     },
     "execution_count": 110,
     "metadata": {},
     "output_type": "execute_result"
    }
   ],
   "source": [
    "woof"
   ]
  },
  {
   "cell_type": "code",
   "execution_count": 96,
   "id": "aae7306c",
   "metadata": {},
   "outputs": [
    {
     "data": {
      "image/png": "[encoded data removed]",
      "text/latex": [
       "$\\displaystyle \\left[\\begin{matrix}0.942208887884502 & 0.0577911121154978\\\\0.173373336346493 & 0.826626663653507\\end{matrix}\\right]$"
      ],
      "text/plain": [
       "⎡0.942208887884502  0.0577911121154978⎤\n",
       "⎢                                     ⎥\n",
       "⎣0.173373336346493  0.826626663653507 ⎦"
      ]
     },
     "execution_count": 96,
     "metadata": {},
     "output_type": "execute_result"
    }
   ],
   "source": [
    "meep.subs([(a,0.4),(b,1.2),(d,1/6.086469417296281)])"
   ]
  },
  {
   "cell_type": "code",
   "execution_count": 98,
   "id": "8f69f959",
   "metadata": {},
   "outputs": [
    {
     "data": {
      "image/png": "[encoded data removed]",
      "text/latex": [
       "$\\displaystyle \\left[\\begin{matrix}0.962665177463543 & 0.0373348225364575\\\\0.112004467609372 & 0.887995532390628\\end{matrix}\\right]$"
      ],
      "text/plain": [
       "⎡0.962665177463543  0.0373348225364575⎤\n",
       "⎢                                     ⎥\n",
       "⎣0.112004467609372  0.887995532390628 ⎦"
      ]
     },
     "execution_count": 98,
     "metadata": {},
     "output_type": "execute_result"
    }
   ],
   "source": [
    "meep.subs([(a,0.4),(b,1.2),(d,1/9.892302152041209)])"
   ]
  },
  {
   "cell_type": "code",
   "execution_count": 121,
   "id": "86db5a1e",
   "metadata": {},
   "outputs": [],
   "source": [
    "meepo = np.array(meep.subs([(a,0.4),(b,1.2),(d,1/9.892302152041209)]).tolist()).astype(np.float64)"
   ]
  },
  {
   "cell_type": "code",
   "execution_count": 125,
   "id": "e91c16d9",
   "metadata": {},
   "outputs": [
    {
     "name": "stdout",
     "output_type": "stream",
     "text": [
      "[[0.96266518 0.03733482]\n",
      " [0.11200447 0.88799553]]\n"
     ]
    },
    {
     "data": {
      "text/plain": [
       "(array([1.        , 0.85066071]),\n",
       " array([[ 0.9486833 , -0.70710678],\n",
       "        [ 0.31622777,  0.70710678]]))"
      ]
     },
     "execution_count": 125,
     "metadata": {},
     "output_type": "execute_result"
    }
   ],
   "source": [
    "print(meepo)\n",
    "np.linalg.eig(np.transpose(meepo))"
   ]
  },
  {
   "cell_type": "code",
   "execution_count": 68,
   "id": "d3e62adf",
   "metadata": {},
   "outputs": [
    {
     "data": {
      "text/plain": [
       "(array([1.        , 0.85066071]),\n",
       " array([[ 0.70710678, -0.31622777],\n",
       "        [ 0.70710678,  0.9486833 ]]))"
      ]
     },
     "execution_count": 68,
     "metadata": {},
     "output_type": "execute_result"
    }
   ],
   "source": []
  },
  {
   "cell_type": "code",
   "execution_count": 42,
   "id": "9bee2ad2",
   "metadata": {},
   "outputs": [
    {
     "data": {
      "image/png": "[encoded data removed]",
      "text/latex": [
       "$\\displaystyle \\left[\\begin{matrix}\\frac{b \\left(1 + \\frac{0.737850157082499 e^{- 0.101088703582882 b}}{b}\\right)}{b + 0.8} & \\frac{0.8 \\cdot \\left(1 - 0.922312696353124 e^{- 0.101088703582882 b}\\right)}{b + 0.8}\\\\\\frac{b \\left(1 - 0.922312696353124 e^{- 0.101088703582882 b}\\right)}{b + 0.8} & \\frac{b \\left(0.922312696353124 e^{- 0.101088703582882 b} + \\frac{0.8}{b}\\right)}{b + 0.8}\\end{matrix}\\right]$"
      ],
      "text/plain": [
       "⎡  ⎛                       -0.101088703582882⋅b⎞                             \n",
       "⎢  ⎜    0.737850157082499⋅ℯ                    ⎟                             \n",
       "⎢b⋅⎜1 + ───────────────────────────────────────⎟      ⎛                      \n",
       "⎢  ⎝                       b                   ⎠  0.8⋅⎝1 - 0.922312696353124⋅\n",
       "⎢───────────────────────────────────────────────  ───────────────────────────\n",
       "⎢                    b + 0.8                                           b + 0.\n",
       "⎢                                                                            \n",
       "⎢                                                   ⎛                   -0.10\n",
       "⎢  ⎛                       -0.101088703582882⋅b⎞  b⋅⎜0.922312696353124⋅ℯ     \n",
       "⎢b⋅⎝1 - 0.922312696353124⋅ℯ                    ⎠    ⎝                        \n",
       "⎢───────────────────────────────────────────────  ───────────────────────────\n",
       "⎣                    b + 0.8                                           b + 0.\n",
       "\n",
       "                      ⎤\n",
       "                      ⎥\n",
       " -0.101088703582882⋅b⎞⎥\n",
       "ℯ                    ⎠⎥\n",
       "──────────────────────⎥\n",
       "8                     ⎥\n",
       "                      ⎥\n",
       "1088703582882⋅b   0.8⎞⎥\n",
       "                + ───⎟⎥\n",
       "                   b ⎠⎥\n",
       "──────────────────────⎥\n",
       "8                     ⎦"
      ]
     },
     "execution_count": 42,
     "metadata": {},
     "output_type": "execute_result"
    }
   ],
   "source": [
    "meep.subs([(a,0.8),(b,1.4),(d,1/9.892302152041209)])"
   ]
  },
  {
   "cell_type": "code",
   "execution_count": 28,
   "id": "c8002c86",
   "metadata": {},
   "outputs": [],
   "source": [
    "b= sympy.Matrix(meep.T - sympy.eye(2))"
   ]
  },
  {
   "cell_type": "code",
   "execution_count": 69,
   "id": "200c40a7",
   "metadata": {},
   "outputs": [
    {
     "ename": "AttributeError",
     "evalue": "module 'sympy' has no attribute 'eigenvals'",
     "output_type": "error",
     "traceback": [
      "\u001b[0;31m---------------------------------------------------------------------------\u001b[0m",
      "\u001b[0;31mAttributeError\u001b[0m                            Traceback (most recent call last)",
      "Cell \u001b[0;32mIn[69], line 1\u001b[0m\n\u001b[0;32m----> 1\u001b[0m \u001b[43msympy\u001b[49m\u001b[38;5;241;43m.\u001b[39;49m\u001b[43meigenvals\u001b[49m(meep\u001b[38;5;241m.\u001b[39mT)\n",
      "\u001b[0;31mAttributeError\u001b[0m: module 'sympy' has no attribute 'eigenvals'"
     ]
    }
   ],
   "source": [
    "sympy.eigenvals(meep.T)"
   ]
  },
  {
   "cell_type": "code",
   "execution_count": 35,
   "id": "e361c75f",
   "metadata": {},
   "outputs": [
    {
     "data": {
      "text/plain": [
       "sympy.matrices.dense.MutableDenseMatrix"
      ]
     },
     "execution_count": 35,
     "metadata": {},
     "output_type": "execute_result"
    }
   ],
   "source": [
    "type(meep)"
   ]
  },
  {
   "cell_type": "code",
   "execution_count": 70,
   "id": "4e9045c5",
   "metadata": {},
   "outputs": [
    {
     "data": {
      "text/plain": [
       "(array([1.        , 0.85066071]),\n",
       " array([[ 0.70710678, -0.31622777],\n",
       "        [ 0.70710678,  0.9486833 ]]))"
      ]
     },
     "execution_count": 70,
     "metadata": {},
     "output_type": "execute_result"
    }
   ],
   "source": [
    "woofy = np.array(np.transpose(woof)).astype(np.float64)\n",
    "np.linalg.eig(woofy)"
   ]
  },
  {
   "cell_type": "code",
   "execution_count": 83,
   "id": "bb11b49d",
   "metadata": {},
   "outputs": [],
   "source": [
    "x2 =  (1-(b/(a+b))*(1+(a/b)*sympy.exp(-d*(a+b))))/((-b/(a+b))*sympy.exp(-d*(a+b))*((a/b)+1)+1)"
   ]
  },
  {
   "cell_type": "code",
   "execution_count": 105,
   "id": "848179cf",
   "metadata": {},
   "outputs": [
    {
     "data": {
      "image/png": "[encoded data removed]",
      "text/latex": [
       "$\\displaystyle 0.25$"
      ],
      "text/plain": [
       "0.250000000000000"
      ]
     },
     "execution_count": 105,
     "metadata": {},
     "output_type": "execute_result"
    }
   ],
   "source": [
    "x2.subs([(a,0.4),(b,1.2),(d,1/9.892302152041209)])"
   ]
  },
  {
   "cell_type": "code",
   "execution_count": 88,
   "id": "cd5b5b73",
   "metadata": {},
   "outputs": [],
   "source": [
    "x3 = ((b/(a+b))*(1-sympy.exp(-d*(a+b))))/((b/(a+b))*((a-b)/b + 2*sympy.exp(-d*(a+b)))-1)"
   ]
  },
  {
   "cell_type": "code",
   "execution_count": 104,
   "id": "3c68be02",
   "metadata": {},
   "outputs": [
    {
     "data": {
      "image/png": "[encoded data removed]",
      "text/latex": [
       "$\\displaystyle -0.5$"
      ],
      "text/plain": [
       "-0.500000000000000"
      ]
     },
     "execution_count": 104,
     "metadata": {},
     "output_type": "execute_result"
    }
   ],
   "source": [
    "\n",
    "x3.subs([(a,0.4),(b,1.2),(d,1/9.892302152041209)])"
   ]
  },
  {
   "cell_type": "code",
   "execution_count": 111,
   "id": "382cea55",
   "metadata": {},
   "outputs": [
    {
     "data": {
      "image/png": "[encoded data removed]",
      "text/latex": [
       "$\\displaystyle 0.25$"
      ],
      "text/plain": [
       "0.250000000000000"
      ]
     },
     "execution_count": 111,
     "metadata": {},
     "output_type": "execute_result"
    }
   ],
   "source": [
    "m = b/(b+a)\n",
    "n = a/(b+a)\n",
    "t = -d*(a+b)\n",
    "x4 = (1-m-n*sympy.exp(t))/(1-m*sympy.exp(t)-n*sympy.exp(t))\n",
    "x4.subs([(a,0.4),(b,1.2),(d,1/9.892302152041209)])"
   ]
  },
  {
   "cell_type": "code",
   "execution_count": 117,
   "id": "153fa732",
   "metadata": {},
   "outputs": [
    {
     "data": {
      "text/plain": [
       "(array([1.  , 0.85]),\n",
       " array([[ 0.93979342, -0.70710678],\n",
       "        [ 0.34174306,  0.70710678]]))"
      ]
     },
     "execution_count": 117,
     "metadata": {},
     "output_type": "execute_result"
    }
   ],
   "source": [
    "k = np.array([[0.96,0.11],[0.04,0.89]] )\n",
    "np.linalg.eig(k)"
   ]
  },
  {
   "cell_type": "code",
   "execution_count": null,
   "id": "fc95cfb9",
   "metadata": {},
   "outputs": [],
   "source": []
  }
 ],
 "metadata": {
  "kernelspec": {
   "display_name": "Python 3",
   "language": "python",
   "name": "python3"
  },
  "language_info": {
   "codemirror_mode": {
    "name": "ipython",
    "version": 3
   },
   "file_extension": ".py",
   "mimetype": "text/x-python",
   "name": "python",
   "nbconvert_exporter": "python",
   "pygments_lexer": "ipython3",
   "version": "3.10.9"
  }
 },
 "nbformat": 4,
 "nbformat_minor": 5
}
