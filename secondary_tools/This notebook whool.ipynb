{
 "cells": [
  {
   "cell_type": "code",
   "execution_count": null,
   "id": "858e6bb5",
   "metadata": {},
   "outputs": [],
   "source": []
  },
  {
   "cell_type": "code",
   "execution_count": 2,
   "id": "6abe1d97",
   "metadata": {},
   "outputs": [],
   "source": [
    "import numpy as np\n",
    "import scipy\n",
    "from time import sleep\n",
    "import matplotlib.pyplot as plt\n",
    "from sympy import *\n",
    "import sympy\n",
    "from scipy import * \n",
    "from sympy.solvers.solveset import linsolve\n",
    "from IPython.display import clear_output\n",
    "from IPython.display import display\n",
    "init_printing(use_unicode=True,use_latex=True)"
   ]
  },
  {
   "cell_type": "code",
   "execution_count": 3,
   "id": "03301aa6",
   "metadata": {},
   "outputs": [],
   "source": [
    "a,b,d = symbols('a,b,d')"
   ]
  },
  {
   "cell_type": "code",
   "execution_count": 4,
   "id": "ec0be678",
   "metadata": {},
   "outputs": [],
   "source": [
    "m = Matrix([[-a,a],[b,-b]])"
   ]
  },
  {
   "cell_type": "code",
   "execution_count": 5,
   "id": "abdd4fc5",
   "metadata": {},
   "outputs": [
    {
     "data": {
      "image/png": "[encoded data removed]",
      "text/latex": [
       "$\\displaystyle \\left\\{ 0 : 1, \\  - a - b : 1\\right\\}$"
      ],
      "text/plain": [
       "{0: 1, -a - b: 1}"
      ]
     },
     "execution_count": 5,
     "metadata": {},
     "output_type": "execute_result"
    }
   ],
   "source": [
    "m.eigenvals()"
   ]
  },
  {
   "cell_type": "code",
   "execution_count": 6,
   "id": "8e07079e",
   "metadata": {},
   "outputs": [
    {
     "data": {
      "image/png": "[encoded data removed]",
      "text/latex": [
       "$\\displaystyle \\left[ \\left( 0, \\  1, \\  \\left[ \\left[\\begin{matrix}1\\\\1\\end{matrix}\\right]\\right]\\right), \\  \\left( - a - b, \\  1, \\  \\left[ \\left[\\begin{matrix}- \\frac{a}{b}\\\\1\\end{matrix}\\right]\\right]\\right)\\right]$"
      ],
      "text/plain": [
       "⎡               ⎛           ⎡⎡-a ⎤⎤⎞⎤\n",
       "⎢⎛      ⎡⎡1⎤⎤⎞  ⎜           ⎢⎢───⎥⎥⎟⎥\n",
       "⎢⎜0, 1, ⎢⎢ ⎥⎥⎟, ⎜-a - b, 1, ⎢⎢ b ⎥⎥⎟⎥\n",
       "⎢⎝      ⎣⎣1⎦⎦⎠  ⎜           ⎢⎢   ⎥⎥⎟⎥\n",
       "⎣               ⎝           ⎣⎣ 1 ⎦⎦⎠⎦"
      ]
     },
     "execution_count": 6,
     "metadata": {},
     "output_type": "execute_result"
    }
   ],
   "source": [
    "m.eigenvects()"
   ]
  },
  {
   "cell_type": "code",
   "execution_count": 7,
   "id": "1d5e4326",
   "metadata": {},
   "outputs": [
    {
     "data": {
      "image/png": "[encoded data removed]",
      "text/latex": [
       "$\\displaystyle \\left[\\begin{matrix}1 & - \\frac{a}{b}\\\\1 & 1\\end{matrix}\\right]$"
      ],
      "text/plain": [
       "⎡   -a ⎤\n",
       "⎢1  ───⎥\n",
       "⎢    b ⎥\n",
       "⎢      ⎥\n",
       "⎣1   1 ⎦"
      ]
     },
     "metadata": {},
     "output_type": "display_data"
    },
    {
     "data": {
      "image/png": "[encoded data removed]",
      "text/latex": [
       "$\\displaystyle \\left[\\begin{matrix}\\frac{1}{\\frac{a}{b} + 1} & \\frac{a}{a + b}\\\\- \\frac{1}{\\frac{a}{b} + 1} & \\frac{1}{\\frac{a}{b} + 1}\\end{matrix}\\right]$"
      ],
      "text/plain": [
       "⎡  1      a  ⎤\n",
       "⎢─────  ─────⎥\n",
       "⎢a      a + b⎥\n",
       "⎢─ + 1       ⎥\n",
       "⎢b           ⎥\n",
       "⎢            ⎥\n",
       "⎢ -1      1  ⎥\n",
       "⎢─────  ─────⎥\n",
       "⎢a      a    ⎥\n",
       "⎢─ + 1  ─ + 1⎥\n",
       "⎣b      b    ⎦"
      ]
     },
     "execution_count": 7,
     "metadata": {},
     "output_type": "execute_result"
    }
   ],
   "source": [
    "E,S = m.diagonalize()\n",
    "display(E)\n",
    "Ei = E.inv()\n",
    "Ei"
   ]
  },
  {
   "cell_type": "code",
   "execution_count": 8,
   "id": "ff129b76",
   "metadata": {},
   "outputs": [],
   "source": [
    "expo = E@sympy.exp(S)@Ei"
   ]
  },
  {
   "cell_type": "code",
   "execution_count": 9,
   "id": "9565eb3e",
   "metadata": {},
   "outputs": [],
   "source": [
    "# Final Form here"
   ]
  },
  {
   "cell_type": "code",
   "execution_count": 10,
   "id": "653b3e73",
   "metadata": {},
   "outputs": [],
   "source": [
    "meep = (b/(a+b))*Matrix([[1+(a/b)*sympy.exp(-d*(a+b)), (a/b)*(1-sympy.exp(-d*(a+b)))]\n",
    "                         ,[1-sympy.exp(-d*(a+b)),(a/b)+sympy.exp(-d*(a+b))]])"
   ]
  },
  {
   "cell_type": "code",
   "execution_count": 11,
   "id": "22e47609",
   "metadata": {},
   "outputs": [
    {
     "data": {
      "image/png": "[encoded data removed]",
      "text/latex": [
       "$\\displaystyle \\left[\\begin{matrix}\\frac{b \\left(\\frac{a e^{- d \\left(a + b\\right)}}{b} + 1\\right)}{a + b} & \\frac{a \\left(1 - e^{- d \\left(a + b\\right)}\\right)}{a + b}\\\\\\frac{b \\left(1 - e^{- d \\left(a + b\\right)}\\right)}{a + b} & \\frac{b \\left(\\frac{a}{b} + e^{- d \\left(a + b\\right)}\\right)}{a + b}\\end{matrix}\\right]$"
      ],
      "text/plain": [
       "⎡  ⎛   -d⋅(a + b)    ⎞                     ⎤\n",
       "⎢  ⎜a⋅ℯ              ⎟                     ⎥\n",
       "⎢b⋅⎜───────────── + 1⎟    ⎛     -d⋅(a + b)⎞⎥\n",
       "⎢  ⎝      b          ⎠  a⋅⎝1 - ℯ          ⎠⎥\n",
       "⎢─────────────────────  ───────────────────⎥\n",
       "⎢        a + b                 a + b       ⎥\n",
       "⎢                                          ⎥\n",
       "⎢                         ⎛a    -d⋅(a + b)⎞⎥\n",
       "⎢   ⎛     -d⋅(a + b)⎞   b⋅⎜─ + ℯ          ⎟⎥\n",
       "⎢ b⋅⎝1 - ℯ          ⎠     ⎝b              ⎠⎥\n",
       "⎢ ───────────────────   ───────────────────⎥\n",
       "⎣        a + b                 a + b       ⎦"
      ]
     },
     "execution_count": 11,
     "metadata": {},
     "output_type": "execute_result"
    }
   ],
   "source": [
    "meep"
   ]
  },
  {
   "cell_type": "code",
   "execution_count": 12,
   "id": "56e5cdc1",
   "metadata": {},
   "outputs": [],
   "source": [
    "woof = meep.subs([(a,0.4),(b,1.2),(d,1/9.892302152041209)])"
   ]
  },
  {
   "cell_type": "code",
   "execution_count": 23,
   "id": "0474d775",
   "metadata": {},
   "outputs": [
    {
     "data": {
      "text/plain": [
       "array([[0.96266518, 0.11200447],\n",
       "       [0.03733482, 0.88799553]])"
      ]
     },
     "execution_count": 23,
     "metadata": {},
     "output_type": "execute_result"
    }
   ],
   "source": [
    "wt = np.transpose(woof).astype(np.float64)\n",
    "wt"
   ]
  },
  {
   "cell_type": "code",
   "execution_count": 24,
   "id": "c3190cdf",
   "metadata": {},
   "outputs": [
    {
     "data": {
      "text/plain": [
       "(array([1.        , 0.85066071]),\n",
       " array([[ 0.9486833 , -0.70710678],\n",
       "        [ 0.31622777,  0.70710678]]))"
      ]
     },
     "execution_count": 24,
     "metadata": {},
     "output_type": "execute_result"
    }
   ],
   "source": [
    "np.linalg.eig(wt)"
   ]
  },
  {
   "cell_type": "code",
   "execution_count": 16,
   "id": "481b40f7",
   "metadata": {},
   "outputs": [
    {
     "ename": "TypeError",
     "evalue": "ufunc 'isfinite' not supported for the input types, and the inputs could not be safely coerced to any supported types according to the casting rule ''safe''",
     "output_type": "error",
     "traceback": [
      "\u001b[0;31m---------------------------------------------------------------------------\u001b[0m",
      "\u001b[0;31mTypeError\u001b[0m                                 Traceback (most recent call last)",
      "Cell \u001b[0;32mIn [16], line 1\u001b[0m\n\u001b[0;32m----> 1\u001b[0m \u001b[43mnp\u001b[49m\u001b[38;5;241;43m.\u001b[39;49m\u001b[43mlinalg\u001b[49m\u001b[38;5;241;43m.\u001b[39;49m\u001b[43meig\u001b[49m\u001b[43m(\u001b[49m\u001b[43mwt\u001b[49m\u001b[43m)\u001b[49m\n",
      "File \u001b[0;32m<__array_function__ internals>:180\u001b[0m, in \u001b[0;36meig\u001b[0;34m(*args, **kwargs)\u001b[0m\n",
      "File \u001b[0;32m~/miniforge3/envs/rs39/lib/python3.9/site-packages/numpy/linalg/linalg.py:1312\u001b[0m, in \u001b[0;36meig\u001b[0;34m(a)\u001b[0m\n\u001b[1;32m   1310\u001b[0m _assert_stacked_2d(a)\n\u001b[1;32m   1311\u001b[0m _assert_stacked_square(a)\n\u001b[0;32m-> 1312\u001b[0m \u001b[43m_assert_finite\u001b[49m\u001b[43m(\u001b[49m\u001b[43ma\u001b[49m\u001b[43m)\u001b[49m\n\u001b[1;32m   1313\u001b[0m t, result_t \u001b[38;5;241m=\u001b[39m _commonType(a)\n\u001b[1;32m   1315\u001b[0m extobj \u001b[38;5;241m=\u001b[39m get_linalg_error_extobj(\n\u001b[1;32m   1316\u001b[0m     _raise_linalgerror_eigenvalues_nonconvergence)\n",
      "File \u001b[0;32m~/miniforge3/envs/rs39/lib/python3.9/site-packages/numpy/linalg/linalg.py:208\u001b[0m, in \u001b[0;36m_assert_finite\u001b[0;34m(*arrays)\u001b[0m\n\u001b[1;32m    206\u001b[0m \u001b[38;5;28;01mdef\u001b[39;00m \u001b[38;5;21m_assert_finite\u001b[39m(\u001b[38;5;241m*\u001b[39marrays):\n\u001b[1;32m    207\u001b[0m     \u001b[38;5;28;01mfor\u001b[39;00m a \u001b[38;5;129;01min\u001b[39;00m arrays:\n\u001b[0;32m--> 208\u001b[0m         \u001b[38;5;28;01mif\u001b[39;00m \u001b[38;5;129;01mnot\u001b[39;00m \u001b[43misfinite\u001b[49m\u001b[43m(\u001b[49m\u001b[43ma\u001b[49m\u001b[43m)\u001b[49m\u001b[38;5;241m.\u001b[39mall():\n\u001b[1;32m    209\u001b[0m             \u001b[38;5;28;01mraise\u001b[39;00m LinAlgError(\u001b[38;5;124m\"\u001b[39m\u001b[38;5;124mArray must not contain infs or NaNs\u001b[39m\u001b[38;5;124m\"\u001b[39m)\n",
      "\u001b[0;31mTypeError\u001b[0m: ufunc 'isfinite' not supported for the input types, and the inputs could not be safely coerced to any supported types according to the casting rule ''safe''"
     ]
    }
   ],
   "source": [
    "meep.subs([(a,0.4),(b,1.2),(d,1/6.086469417296281)])"
   ]
  },
  {
   "cell_type": "code",
   "execution_count": 98,
   "id": "8f69f959",
   "metadata": {},
   "outputs": [
    {
     "data": {
      "image/png": "[encoded data removed]",
      "text/latex": [
       "$\\displaystyle \\left[\\begin{matrix}0.962665177463543 & 0.0373348225364575\\\\0.112004467609372 & 0.887995532390628\\end{matrix}\\right]$"
      ],
      "text/plain": [
       "⎡0.962665177463543  0.0373348225364575⎤\n",
       "⎢                                     ⎥\n",
       "⎣0.112004467609372  0.887995532390628 ⎦"
      ]
     },
     "execution_count": 98,
     "metadata": {},
     "output_type": "execute_result"
    }
   ],
   "source": [
    "meep.subs([(a,0.4),(b,1.2),(d,1/9.892302152041209)])"
   ]
  },
  {
   "cell_type": "code",
   "execution_count": 121,
   "id": "86db5a1e",
   "metadata": {},
   "outputs": [],
   "source": [
    "meepo = np.array(meep.subs([(a,0.4),(b,1.2),(d,1/9.892302152041209)]).tolist()).astype(np.float64)"
   ]
  },
  {
   "cell_type": "code",
   "execution_count": 125,
   "id": "e91c16d9",
   "metadata": {},
   "outputs": [
    {
     "name": "stdout",
     "output_type": "stream",
     "text": [
      "[[0.96266518 0.03733482]\n",
      " [0.11200447 0.88799553]]\n"
     ]
    },
    {
     "data": {
      "text/plain": [
       "(array([1.        , 0.85066071]),\n",
       " array([[ 0.9486833 , -0.70710678],\n",
       "        [ 0.31622777,  0.70710678]]))"
      ]
     },
     "execution_count": 125,
     "metadata": {},
     "output_type": "execute_result"
    }
   ],
   "source": [
    "print(meepo)\n",
    "np.linalg.eig(np.transpose(meepo))"
   ]
  },
  {
   "cell_type": "code",
   "execution_count": 68,
   "id": "d3e62adf",
   "metadata": {},
   "outputs": [
    {
     "data": {
      "text/plain": [
       "(array([1.        , 0.85066071]),\n",
       " array([[ 0.70710678, -0.31622777],\n",
       "        [ 0.70710678,  0.9486833 ]]))"
      ]
     },
     "execution_count": 68,
     "metadata": {},
     "output_type": "execute_result"
    }
   ],
   "source": []
  },
  {
   "cell_type": "code",
   "execution_count": 42,
   "id": "7bed5fff",
   "metadata": {},
   "outputs": [
    {
     "data": {
      "image/png": "[encoded data removed]",
      "text/latex": [
       "$\\displaystyle \\left[\\begin{matrix}\\frac{b \\left(1 + \\frac{0.737850157082499 e^{- 0.101088703582882 b}}{b}\\right)}{b + 0.8} & \\frac{0.8 \\cdot \\left(1 - 0.922312696353124 e^{- 0.101088703582882 b}\\right)}{b + 0.8}\\\\\\frac{b \\left(1 - 0.922312696353124 e^{- 0.101088703582882 b}\\right)}{b + 0.8} & \\frac{b \\left(0.922312696353124 e^{- 0.101088703582882 b} + \\frac{0.8}{b}\\right)}{b + 0.8}\\end{matrix}\\right]$"
      ],
      "text/plain": [
       "⎡  ⎛                       -0.101088703582882⋅b⎞                             \n",
       "⎢  ⎜    0.737850157082499⋅ℯ                    ⎟                             \n",
       "⎢b⋅⎜1 + ───────────────────────────────────────⎟      ⎛                      \n",
       "⎢  ⎝                       b                   ⎠  0.8⋅⎝1 - 0.922312696353124⋅\n",
       "⎢───────────────────────────────────────────────  ───────────────────────────\n",
       "⎢                    b + 0.8                                           b + 0.\n",
       "⎢                                                                            \n",
       "⎢                                                   ⎛                   -0.10\n",
       "⎢  ⎛                       -0.101088703582882⋅b⎞  b⋅⎜0.922312696353124⋅ℯ     \n",
       "⎢b⋅⎝1 - 0.922312696353124⋅ℯ                    ⎠    ⎝                        \n",
       "⎢───────────────────────────────────────────────  ───────────────────────────\n",
       "⎣                    b + 0.8                                           b + 0.\n",
       "\n",
       "                      ⎤\n",
       "                      ⎥\n",
       " -0.101088703582882⋅b⎞⎥\n",
       "ℯ                    ⎠⎥\n",
       "──────────────────────⎥\n",
       "8                     ⎥\n",
       "                      ⎥\n",
       "1088703582882⋅b   0.8⎞⎥\n",
       "                + ───⎟⎥\n",
       "                   b ⎠⎥\n",
       "──────────────────────⎥\n",
       "8                     ⎦"
      ]
     },
     "execution_count": 42,
     "metadata": {},
     "output_type": "execute_result"
    }
   ],
   "source": [
    "meep.subs([(a,0.8),(b,1.4),(d,1/9.892302152041209)])"
   ]
  },
  {
   "cell_type": "code",
   "execution_count": 28,
   "id": "60a17d85",
   "metadata": {},
   "outputs": [],
   "source": [
    "b= sympy.Matrix(meep.T - sympy.eye(2))"
   ]
  },
  {
   "cell_type": "code",
   "execution_count": 69,
   "id": "f93e3418",
   "metadata": {},
   "outputs": [
    {
     "ename": "AttributeError",
     "evalue": "module 'sympy' has no attribute 'eigenvals'",
     "output_type": "error",
     "traceback": [
      "\u001b[0;31m---------------------------------------------------------------------------\u001b[0m",
      "\u001b[0;31mAttributeError\u001b[0m                            Traceback (most recent call last)",
      "Cell \u001b[0;32mIn[69], line 1\u001b[0m\n\u001b[0;32m----> 1\u001b[0m \u001b[43msympy\u001b[49m\u001b[38;5;241;43m.\u001b[39;49m\u001b[43meigenvals\u001b[49m(meep\u001b[38;5;241m.\u001b[39mT)\n",
      "\u001b[0;31mAttributeError\u001b[0m: module 'sympy' has no attribute 'eigenvals'"
     ]
    }
   ],
   "source": [
    "sympy.eigenvals(meep.T)"
   ]
  },
  {
   "cell_type": "code",
   "execution_count": 35,
   "id": "9e3eacb0",
   "metadata": {},
   "outputs": [
    {
     "data": {
      "text/plain": [
       "sympy.matrices.dense.MutableDenseMatrix"
      ]
     },
     "execution_count": 35,
     "metadata": {},
     "output_type": "execute_result"
    }
   ],
   "source": [
    "type(meep)"
   ]
  },
  {
   "cell_type": "code",
   "execution_count": 126,
   "id": "05f72cee",
   "metadata": {},
   "outputs": [
    {
     "data": {
      "text/plain": [
       "(array([1.        , 0.85066071]),\n",
       " array([[ 0.9486833 , -0.70710678],\n",
       "        [ 0.31622777,  0.70710678]]))"
      ]
     },
     "execution_count": 126,
     "metadata": {},
     "output_type": "execute_result"
    }
   ],
   "source": [
    "woofy = np.array(np.transpose(woof)).astype(np.float64)\n",
    "np.linalg.eig(woofy)"
   ]
  },
  {
   "cell_type": "code",
   "execution_count": 83,
   "id": "100cf816",
   "metadata": {},
   "outputs": [],
   "source": [
    "x2 =  (1-(b/(a+b))*(1+(a/b)*sympy.exp(-d*(a+b))))/((-b/(a+b))*sympy.exp(-d*(a+b))*((a/b)+1)+1)"
   ]
  },
  {
   "cell_type": "code",
   "execution_count": 105,
   "id": "59579e77",
   "metadata": {},
   "outputs": [
    {
     "data": {
      "image/png": "[encoded data removed]",
      "text/latex": [
       "$\\displaystyle 0.25$"
      ],
      "text/plain": [
       "0.250000000000000"
      ]
     },
     "execution_count": 105,
     "metadata": {},
     "output_type": "execute_result"
    }
   ],
   "source": [
    "x2.subs([(a,0.4),(b,1.2),(d,1/9.892302152041209)])"
   ]
  },
  {
   "cell_type": "code",
   "execution_count": 88,
   "id": "cc6d12c6",
   "metadata": {},
   "outputs": [],
   "source": [
    "x3 = ((b/(a+b))*(1-sympy.exp(-d*(a+b))))/((b/(a+b))*((a-b)/b + 2*sympy.exp(-d*(a+b)))-1)"
   ]
  },
  {
   "cell_type": "code",
   "execution_count": 104,
   "id": "a62152ba",
   "metadata": {},
   "outputs": [
    {
     "data": {
      "image/png": "[encoded data removed]",
      "text/latex": [
       "$\\displaystyle -0.5$"
      ],
      "text/plain": [
       "-0.500000000000000"
      ]
     },
     "execution_count": 104,
     "metadata": {},
     "output_type": "execute_result"
    }
   ],
   "source": [
    "\n",
    "x3.subs([(a,0.4),(b,1.2),(d,1/9.892302152041209)])"
   ]
  },
  {
   "cell_type": "code",
   "execution_count": 45,
   "id": "06616e13",
   "metadata": {},
   "outputs": [
    {
     "name": "stdout",
     "output_type": "stream",
     "text": [
      "X1 = 0.789473684210526 , X2 = 0.210526315789474\n"
     ]
    }
   ],
   "source": [
    "m = b/(b+a)# b = mu\n",
    "n = a/(b+a)# a = lambda\n",
    "t = -d*(a+b)\n",
    "x4 = (n)*(1-sympy.exp(t))/(1+n-n*sympy.exp(t)-m*sympy.exp(t)-n)\n",
    "x4 = x4.subs([(a,12/10),(b,45/10),(d,1/0.31)])\n",
    "print(\"X1 = {} , X2 = {}\".format(1-x4,x4))"
   ]
  },
  {
   "cell_type": "code",
   "execution_count": 46,
   "id": "36b49bf5",
   "metadata": {},
   "outputs": [
    {
     "data": {
      "image/png": "[encoded data removed]",
      "text/latex": [
       "$\\displaystyle 0.210526315789474$"
      ],
      "text/plain": [
       "0.210526315789474"
      ]
     },
     "execution_count": 46,
     "metadata": {},
     "output_type": "execute_result"
    }
   ],
   "source": [
    "x2 = n\n",
    "x2 = x2.subs([(a,12/10),(b,45/10),(d,1/0.31)])\n",
    "x2"
   ]
  },
  {
   "cell_type": "code",
   "execution_count": null,
   "id": "cee11ed7",
   "metadata": {},
   "outputs": [],
   "source": []
  }
 ],
 "metadata": {
  "kernelspec": {
   "display_name": "Python 3 (ipykernel)",
   "language": "python",
   "name": "python3"
  },
  "language_info": {
   "codemirror_mode": {
    "name": "ipython",
    "version": 3
   },
   "file_extension": ".py",
   "mimetype": "text/x-python",
   "name": "python",
   "nbconvert_exporter": "python",
   "pygments_lexer": "ipython3",
   "version": "3.9.15"
  }
 },
 "nbformat": 4,
 "nbformat_minor": 5
}
