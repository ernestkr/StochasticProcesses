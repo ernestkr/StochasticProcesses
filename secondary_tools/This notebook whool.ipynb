{
 "cells": [
  {
   "cell_type": "code",
   "execution_count": 16,
   "id": "6abe1d97",
   "metadata": {},
   "outputs": [],
   "source": [
    "import numpy as np\n",
    "import scipy\n",
    "from time import sleep\n",
    "import matplotlib.pyplot as plt\n",
    "from sympy import *\n",
    "import sympy\n",
    "from scipy import * \n",
    "from sympy.solvers.solveset import linsolve\n",
    "from IPython.display import clear_output\n",
    "from IPython.display import display\n",
    "init_printing(use_unicode=True,use_latex=True)"
   ]
  },
  {
   "cell_type": "code",
   "execution_count": 12,
   "id": "03301aa6",
   "metadata": {},
   "outputs": [],
   "source": [
    "a,b,d = symbols('a,b,d')"
   ]
  },
  {
   "cell_type": "code",
   "execution_count": 6,
   "id": "ec0be678",
   "metadata": {},
   "outputs": [],
   "source": [
    "m = Matrix([[-a,a],[b,-b]])"
   ]
  },
  {
   "cell_type": "code",
   "execution_count": 9,
   "id": "abdd4fc5",
   "metadata": {},
   "outputs": [
    {
     "data": {
      "image/png": "[encoded data removed]",
      "text/latex": [
       "$\\displaystyle \\left\\{ 0 : 1, \\  - a - b : 1\\right\\}$"
      ],
      "text/plain": [
       "{0: 1, -a - b: 1}"
      ]
     },
     "execution_count": 9,
     "metadata": {},
     "output_type": "execute_result"
    }
   ],
   "source": [
    "m.eigenvals()"
   ]
  },
  {
   "cell_type": "code",
   "execution_count": 10,
   "id": "8e07079e",
   "metadata": {},
   "outputs": [
    {
     "data": {
      "image/png": "[encoded data removed]",
      "text/latex": [
       "$\\displaystyle \\left[ \\left( 0, \\  1, \\  \\left[ \\left[\\begin{matrix}1\\\\1\\end{matrix}\\right]\\right]\\right), \\  \\left( - a - b, \\  1, \\  \\left[ \\left[\\begin{matrix}- \\frac{a}{b}\\\\1\\end{matrix}\\right]\\right]\\right)\\right]$"
      ],
      "text/plain": [
       "⎡               ⎛           ⎡⎡-a ⎤⎤⎞⎤\n",
       "⎢⎛      ⎡⎡1⎤⎤⎞  ⎜           ⎢⎢───⎥⎥⎟⎥\n",
       "⎢⎜0, 1, ⎢⎢ ⎥⎥⎟, ⎜-a - b, 1, ⎢⎢ b ⎥⎥⎟⎥\n",
       "⎢⎝      ⎣⎣1⎦⎦⎠  ⎜           ⎢⎢   ⎥⎥⎟⎥\n",
       "⎣               ⎝           ⎣⎣ 1 ⎦⎦⎠⎦"
      ]
     },
     "execution_count": 10,
     "metadata": {},
     "output_type": "execute_result"
    }
   ],
   "source": [
    "m.eigenvects()"
   ]
  },
  {
   "cell_type": "code",
   "execution_count": 28,
   "id": "1d5e4326",
   "metadata": {},
   "outputs": [],
   "source": [
    "E,S = m.diagonalize()\n",
    "Ei = E.inv()"
   ]
  },
  {
   "cell_type": "code",
   "execution_count": 34,
   "id": "ff129b76",
   "metadata": {},
   "outputs": [],
   "source": [
    "expo = E@sympy.exp(S)@Ei"
   ]
  },
  {
   "cell_type": "code",
   "execution_count": 11,
   "id": "9565eb3e",
   "metadata": {},
   "outputs": [],
   "source": [
    "# Final Form here"
   ]
  },
  {
   "cell_type": "code",
   "execution_count": 20,
   "id": "653b3e73",
   "metadata": {},
   "outputs": [],
   "source": [
    "meep = (b/(a+b))*Matrix([[1+(a/b)*sympy.exp(-d*(a+b)), (a/b)*(1-sympy.exp(-d*(a+b)))]\n",
    "                         ,[1-sympy.exp(-d*(a+b)),(a/b)+sympy.exp(-d*(a+b))]])"
   ]
  },
  {
   "cell_type": "code",
   "execution_count": 21,
   "id": "22e47609",
   "metadata": {},
   "outputs": [
    {
     "data": {
      "image/png": "[encoded data removed]",
      "text/latex": [
       "$\\displaystyle \\left[\\begin{matrix}\\frac{b \\left(\\frac{a e^{- d \\left(a + b\\right)}}{b} + 1\\right)}{a + b} & \\frac{a \\left(1 - e^{- d \\left(a + b\\right)}\\right)}{a + b}\\\\\\frac{b \\left(1 - e^{- d \\left(a + b\\right)}\\right)}{a + b} & \\frac{b \\left(\\frac{a}{b} + e^{- d \\left(a + b\\right)}\\right)}{a + b}\\end{matrix}\\right]$"
      ],
      "text/plain": [
       "⎡  ⎛   -d⋅(a + b)    ⎞                     ⎤\n",
       "⎢  ⎜a⋅ℯ              ⎟                     ⎥\n",
       "⎢b⋅⎜───────────── + 1⎟    ⎛     -d⋅(a + b)⎞⎥\n",
       "⎢  ⎝      b          ⎠  a⋅⎝1 - ℯ          ⎠⎥\n",
       "⎢─────────────────────  ───────────────────⎥\n",
       "⎢        a + b                 a + b       ⎥\n",
       "⎢                                          ⎥\n",
       "⎢                         ⎛a    -d⋅(a + b)⎞⎥\n",
       "⎢   ⎛     -d⋅(a + b)⎞   b⋅⎜─ + ℯ          ⎟⎥\n",
       "⎢ b⋅⎝1 - ℯ          ⎠     ⎝b              ⎠⎥\n",
       "⎢ ───────────────────   ───────────────────⎥\n",
       "⎣        a + b                 a + b       ⎦"
      ]
     },
     "execution_count": 21,
     "metadata": {},
     "output_type": "execute_result"
    }
   ],
   "source": [
    "meep"
   ]
  },
  {
   "cell_type": "code",
   "execution_count": 43,
   "id": "56e5cdc1",
   "metadata": {},
   "outputs": [
    {
     "data": {
      "image/png": "[encoded data removed]",
      "text/latex": [
       "$\\displaystyle \\left[\\begin{matrix}0.962665177463543 & 0.0373348225364575\\\\0.112004467609372 & 0.887995532390628\\end{matrix}\\right]$"
      ],
      "text/plain": [
       "⎡0.962665177463543  0.0373348225364575⎤\n",
       "⎢                                     ⎥\n",
       "⎣0.112004467609372  0.887995532390628 ⎦"
      ]
     },
     "execution_count": 43,
     "metadata": {},
     "output_type": "execute_result"
    }
   ],
   "source": [
    "meep.subs([(a,0.4),(b,1.2),(d,1/9.892302152041209)])"
   ]
  },
  {
   "cell_type": "code",
   "execution_count": 44,
   "id": "0474d775",
   "metadata": {},
   "outputs": [
    {
     "data": {
      "image/png": "[encoded data removed]",
      "text/latex": [
       "$\\displaystyle \\left[\\begin{matrix}0.927490526125264 & 0.072509473874736\\\\0.126891579280788 & 0.873108420719212\\end{matrix}\\right]$"
      ],
      "text/plain": [
       "⎡0.927490526125264  0.072509473874736⎤\n",
       "⎢                                    ⎥\n",
       "⎣0.126891579280788  0.873108420719212⎦"
      ]
     },
     "execution_count": 44,
     "metadata": {},
     "output_type": "execute_result"
    }
   ],
   "source": [
    "meep.subs([(a,0.8),(b,1.4),(d,1/9.892302152041209)])"
   ]
  },
  {
   "cell_type": "code",
   "execution_count": 45,
   "id": "8f69f959",
   "metadata": {},
   "outputs": [
    {
     "data": {
      "image/png": "[encoded data removed]",
      "text/latex": [
       "$\\displaystyle \\left[\\begin{matrix}0.800474129498664 & 0.199525870501336\\\\0.598577611504008 & 0.401422388495992\\end{matrix}\\right]$"
      ],
      "text/plain": [
       "⎡0.800474129498664  0.199525870501336⎤\n",
       "⎢                                    ⎥\n",
       "⎣0.598577611504008  0.401422388495992⎦"
      ]
     },
     "execution_count": 45,
     "metadata": {},
     "output_type": "execute_result"
    }
   ],
   "source": [
    "expo.subs([(a,0.4),(b,1.2),(d,1/9.892302152041209)])"
   ]
  },
  {
   "cell_type": "code",
   "execution_count": 46,
   "id": "86db5a1e",
   "metadata": {},
   "outputs": [],
   "source": [
    "meepo = np.array(meep.subs([(a,0.4),(b,1.2),(d,1/9.892302152041209)]).tolist())"
   ]
  },
  {
   "cell_type": "code",
   "execution_count": 48,
   "id": "e91c16d9",
   "metadata": {},
   "outputs": [
    {
     "data": {
      "text/plain": [
       "array([1.00000000000000, 1.00000000000000], dtype=object)"
      ]
     },
     "execution_count": 48,
     "metadata": {},
     "output_type": "execute_result"
    }
   ],
   "source": [
    "np.sum(meepo,axis=1)"
   ]
  },
  {
   "cell_type": "code",
   "execution_count": null,
   "id": "d3e62adf",
   "metadata": {},
   "outputs": [],
   "source": []
  }
 ],
 "metadata": {
  "kernelspec": {
   "display_name": "Python 3 (ipykernel)",
   "language": "python",
   "name": "python3"
  },
  "language_info": {
   "codemirror_mode": {
    "name": "ipython",
    "version": 3
   },
   "file_extension": ".py",
   "mimetype": "text/x-python",
   "name": "python",
   "nbconvert_exporter": "python",
   "pygments_lexer": "ipython3",
   "version": "3.9.15"
  }
 },
 "nbformat": 4,
 "nbformat_minor": 5
}
